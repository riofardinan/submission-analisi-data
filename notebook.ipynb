{
 "cells": [
  {
   "cell_type": "markdown",
   "metadata": {
    "id": "H9wADwK78DCz"
   },
   "source": [
    "# Proyek Analisis Data: Air Quality\n",
    "- **Nama:** Rio Fardinan\n",
    "- **Email:** riofardinan123@gmail.com\n",
    "- **ID Dicoding:** Rio Fardinan"
   ]
  },
  {
   "cell_type": "markdown",
   "metadata": {
    "id": "eE0raob58DC0"
   },
   "source": [
    "## Menentukan Pertanyaan Bisnis"
   ]
  },
  {
   "cell_type": "markdown",
   "metadata": {
    "id": "GmQeQ5YF8DC0"
   },
   "source": [
    "- Bagaimana trend kualitas udara di stasiun guanyuan dari tahun ke tahun?\n",
    "- faktor apa yang paling berpengaruh terhadap perubahan kualitas udara?\n",
    "- Bagaimana trend curah hujan di stasiun guanyuan setiap bulannya?"
   ]
  },
  {
   "cell_type": "markdown",
   "metadata": {
    "id": "H-z4QGlO8DC1"
   },
   "source": [
    "## Import Semua Packages/Library yang Digunakan"
   ]
  },
  {
   "cell_type": "code",
   "execution_count": null,
   "metadata": {
    "id": "FVYwaObI8DC1"
   },
   "outputs": [],
   "source": [
    "import pandas as pd\n",
    "import seaborn as sns\n",
    "import matplotlib.pyplot as plt\n",
    "import folium\n",
    "from folium.plugins import HeatMap"
   ]
  },
  {
   "cell_type": "markdown",
   "metadata": {
    "id": "h_Sh51Xy8DC1"
   },
   "source": [
    "## Data Wrangling"
   ]
  },
  {
   "cell_type": "markdown",
   "metadata": {
    "id": "sXU2GBYu8DC1"
   },
   "source": [
    "### Gathering Data"
   ]
  },
  {
   "cell_type": "code",
   "execution_count": null,
   "metadata": {
    "colab": {
     "base_uri": "https://localhost:8080/",
     "height": 206
    },
    "id": "zjCBk1BI8DC1",
    "outputId": "88fabf59-eb8b-4ab6-d919-5cbdf135c9a9"
   },
   "outputs": [],
   "source": [
    "folder_path = 'data/'\n",
    "\n",
    "air_quality_df = pd.read_csv(folder_path + \"PRSA_Data_Guanyuan_20130301-20170228.csv\")\n",
    "air_quality_df.head()"
   ]
  },
  {
   "cell_type": "markdown",
   "metadata": {
    "id": "MMi6xGaDkbCi"
   },
   "source": [
    "**Insight:**\n",
    "- Mengetahui bahwa data memiliki variabel dalam data.\n",
    "- Mengetahui tipe data membantu untuk memilih teknik analisis dan pembersihan data yang sesuai."
   ]
  },
  {
   "cell_type": "markdown",
   "metadata": {
    "id": "FHSiqaZp8DC1"
   },
   "source": [
    "### Assessing Data"
   ]
  },
  {
   "cell_type": "code",
   "execution_count": null,
   "metadata": {
    "colab": {
     "base_uri": "https://localhost:8080/"
    },
    "id": "ax-3tEjc9Cj1",
    "outputId": "77b13d3f-b8c7-4d29-e9db-9d910ad91c0f"
   },
   "outputs": [],
   "source": [
    "air_quality_df.info()"
   ]
  },
  {
   "cell_type": "code",
   "execution_count": null,
   "metadata": {
    "colab": {
     "base_uri": "https://localhost:8080/",
     "height": 649
    },
    "id": "WiXIVdmQPgYg",
    "outputId": "ebdf9171-bfb3-4e0f-989f-f898bacb4f42"
   },
   "outputs": [],
   "source": [
    "air_quality_df.isna().sum()"
   ]
  },
  {
   "cell_type": "code",
   "execution_count": null,
   "metadata": {
    "colab": {
     "base_uri": "https://localhost:8080/"
    },
    "id": "LcJvfzz0Phm_",
    "outputId": "026c6eb4-b080-40e3-a292-7c2d36bd7030"
   },
   "outputs": [],
   "source": [
    "air_quality_df.duplicated().sum()"
   ]
  },
  {
   "cell_type": "markdown",
   "metadata": {
    "id": "7dtxhAPrkhPL"
   },
   "source": [
    "**Insight:**\n",
    "- Mengetahui variabel mana yang memiliki nilai kosong\n",
    "- Mengetahui apakah ada duplikasi data"
   ]
  },
  {
   "cell_type": "markdown",
   "metadata": {
    "id": "EhN5R4hr8DC1"
   },
   "source": [
    "### Cleaning Data"
   ]
  },
  {
   "cell_type": "code",
   "execution_count": null,
   "metadata": {
    "colab": {
     "base_uri": "https://localhost:8080/"
    },
    "id": "jVnYpprE9Evz",
    "outputId": "99e75309-d2ac-432e-9241-7cda74f8a86c"
   },
   "outputs": [],
   "source": [
    "air_quality_df['PM2.5'].fillna(value=air_quality_df['PM2.5'].mean(), inplace=True)\n",
    "air_quality_df['PM10'].fillna(value=air_quality_df['PM10'].mean(), inplace=True)\n",
    "air_quality_df['SO2'].fillna(value=air_quality_df['SO2'].mean(), inplace=True)\n",
    "air_quality_df['NO2'].fillna(value=air_quality_df['NO2'].mean(), inplace=True)\n",
    "air_quality_df['CO'].fillna(value=air_quality_df['CO'].mean(), inplace=True)\n",
    "air_quality_df['O3'].fillna(value=air_quality_df['O3'].mean(), inplace=True)\n",
    "air_quality_df['TEMP'].fillna(value=air_quality_df['TEMP'].mean(), inplace=True)\n",
    "air_quality_df['PRES'].fillna(value=air_quality_df['PRES'].mean(), inplace=True)\n",
    "air_quality_df['DEWP'].fillna(value=air_quality_df['DEWP'].mean(), inplace=True)\n",
    "air_quality_df['RAIN'].fillna(value=air_quality_df['RAIN'].mean(), inplace=True)\n",
    "air_quality_df['wd'].fillna(value=air_quality_df['wd'].mode()[0], inplace=True)\n",
    "air_quality_df['WSPM'].fillna(value=air_quality_df['WSPM'].mean(), inplace=True)\n",
    "\n",
    "air_quality_df['date'] = pd.to_datetime(air_quality_df[['year', 'month', 'day', 'hour']])\n",
    "air_quality_df.set_index('date', inplace=True)"
   ]
  },
  {
   "cell_type": "markdown",
   "metadata": {
    "id": "Q_5ejIqckiSP"
   },
   "source": [
    "**Insight:**\n",
    "- Mengatasi missing value dengan mengisi data menggunakan nilai rata-rata dan nilai modus"
   ]
  },
  {
   "cell_type": "markdown",
   "metadata": {
    "id": "gp-Y6wU38DC1"
   },
   "source": [
    "## Exploratory Data Analysis (EDA)"
   ]
  },
  {
   "cell_type": "markdown",
   "metadata": {
    "id": "MW7WF2kr8DC1"
   },
   "source": [
    "### Explore ..."
   ]
  },
  {
   "cell_type": "code",
   "execution_count": null,
   "metadata": {
    "colab": {
     "base_uri": "https://localhost:8080/",
     "height": 414
    },
    "id": "zZOQJ4x8Z8_e",
    "outputId": "3a117737-6c11-4957-dc34-2a29a6167fd9"
   },
   "outputs": [],
   "source": [
    "air_quality_df.describe(include=\"all\")"
   ]
  },
  {
   "cell_type": "code",
   "execution_count": null,
   "metadata": {
    "colab": {
     "base_uri": "https://localhost:8080/",
     "height": 551
    },
    "id": "e9CQCZjk8DC2",
    "outputId": "4aa22c7b-390a-47f3-a665-965810448873"
   },
   "outputs": [],
   "source": [
    "air_quality_df.corr(numeric_only = True)"
   ]
  },
  {
   "cell_type": "code",
   "execution_count": null,
   "metadata": {
    "colab": {
     "base_uri": "https://localhost:8080/",
     "height": 238
    },
    "id": "Wp3nOrOEVVLm",
    "outputId": "8e6dfe36-365d-4697-baaa-31e22f4c5b6e"
   },
   "outputs": [],
   "source": [
    "air_quality_df.groupby(\"year\").mean(numeric_only=True)"
   ]
  },
  {
   "cell_type": "code",
   "execution_count": null,
   "metadata": {
    "colab": {
     "base_uri": "https://localhost:8080/",
     "height": 457
    },
    "id": "JpAaO_R3Veht",
    "outputId": "9dfb93cc-c82d-4039-a7ff-95f22caaed18"
   },
   "outputs": [],
   "source": [
    "air_quality_df.groupby(\"month\").mean(numeric_only=True)"
   ]
  },
  {
   "cell_type": "code",
   "execution_count": null,
   "metadata": {
    "colab": {
     "base_uri": "https://localhost:8080/",
     "height": 1000
    },
    "id": "tA37MOPwWoFd",
    "outputId": "178669f9-bd67-474e-c6fd-db107b59aa65"
   },
   "outputs": [],
   "source": [
    "air_quality_df.groupby(\"day\").mean(numeric_only=True)"
   ]
  },
  {
   "cell_type": "code",
   "execution_count": null,
   "metadata": {
    "colab": {
     "base_uri": "https://localhost:8080/",
     "height": 833
    },
    "id": "7jGQz204WphG",
    "outputId": "b92ac692-b14b-4f2a-d5f5-dc93b26a37f6"
   },
   "outputs": [],
   "source": [
    "air_quality_df.groupby(\"hour\").mean(numeric_only=True)"
   ]
  },
  {
   "cell_type": "markdown",
   "metadata": {
    "id": "th_Lzl2Fkj9O"
   },
   "source": [
    "**Insight:**\n",
    "- Mengetahui mean, standar deviasi, nilai minimum, maksimum, serta persentil (25%, 50%, dan 75%) dari data\n",
    "- Mengetahui Korelasi Antar Variabel\n",
    "- Mengetahui Trend Polusi Tahunan, Musiman, dan harian"
   ]
  },
  {
   "cell_type": "markdown",
   "metadata": {
    "id": "zsyZjqak8DC2"
   },
   "source": [
    "## Visualization & Explanatory Analysis"
   ]
  },
  {
   "cell_type": "markdown",
   "metadata": {
    "id": "HZxOiQ6n8DC2"
   },
   "source": [
    "### Pertanyaan 1: Bagaimana trend kualitas udara di stasiun guanyuan dari tahun ke tahun?"
   ]
  },
  {
   "cell_type": "code",
   "execution_count": null,
   "metadata": {
    "colab": {
     "base_uri": "https://localhost:8080/",
     "height": 753
    },
    "id": "1swJUdAD8DC2",
    "outputId": "c8b58449-6178-4022-f60f-cb25ab4731f0"
   },
   "outputs": [],
   "source": [
    "monthly_avg_all = air_quality_df[['PM2.5', 'PM10', 'SO2', 'NO2', 'O3']].resample('M').mean()\n",
    "\n",
    "plt.figure(figsize=(14, 8))\n",
    "\n",
    "plt.plot(monthly_avg_all.index, monthly_avg_all['PM2.5'], label='PM2.5', color='orange')\n",
    "plt.plot(monthly_avg_all.index, monthly_avg_all['PM10'], label='PM10', color='red')\n",
    "plt.plot(monthly_avg_all.index, monthly_avg_all['SO2'], label='SO2', color='blue')\n",
    "plt.plot(monthly_avg_all.index, monthly_avg_all['NO2'], label='NO2', color='purple')\n",
    "plt.plot(monthly_avg_all.index, monthly_avg_all['O3'], label='O3', color='green')\n",
    "\n",
    "plt.title('Trend Rata-Rata Kualitas Udara di Stasiun Guanyuan')\n",
    "plt.xlabel('Tahun')\n",
    "plt.ylabel('Konsentrasi (µg/m³)')\n",
    "plt.legend()\n",
    "plt.grid(True)\n",
    "plt.show()"
   ]
  },
  {
   "cell_type": "code",
   "execution_count": null,
   "metadata": {
    "colab": {
     "base_uri": "https://localhost:8080/",
     "height": 753
    },
    "id": "Sm2OktrcnbZR",
    "outputId": "31d28c22-c87a-482b-e73b-f2ac42fcd89e"
   },
   "outputs": [],
   "source": [
    "monthly_avg_all = air_quality_df[['CO']].resample('M').mean()\n",
    "\n",
    "plt.figure(figsize=(14, 8))\n",
    "\n",
    "plt.plot(monthly_avg_all.index, monthly_avg_all['CO'], label='CO', color='orange')\n",
    "\n",
    "plt.title('Trend Rata-Rata Kualitas Udara di Stasiun Guanyuan')\n",
    "plt.xlabel('Tahun')\n",
    "plt.ylabel('Konsentrasi (µg/m³)')\n",
    "plt.legend()\n",
    "plt.grid(True)\n",
    "plt.show()"
   ]
  },
  {
   "cell_type": "markdown",
   "metadata": {
    "id": "DgHI7CiU8DC2"
   },
   "source": [
    "### Pertanyaan 2: Faktor apa yang paling berpengaruh terhadap perubahan kualitas udara?"
   ]
  },
  {
   "cell_type": "code",
   "execution_count": null,
   "metadata": {
    "colab": {
     "base_uri": "https://localhost:8080/",
     "height": 699
    },
    "id": "Go0lCsvO8DC2",
    "outputId": "4d93d9a3-b5e4-4d9c-f827-57f623897365"
   },
   "outputs": [],
   "source": [
    "corr_matrix = air_quality_df[['PM2.5', 'PM10', 'SO2', 'NO2', 'CO', 'O3', 'TEMP', 'PRES', 'DEWP', 'RAIN', 'WSPM']].corr()\n",
    "\n",
    "plt.figure(figsize=(10, 8))\n",
    "sns.heatmap(corr_matrix, annot=True, cmap='coolwarm', vmin=-1, vmax=1)\n",
    "\n",
    "plt.title('Heatmap Korelasi antara Polutan dan Faktor Cuaca')\n",
    "plt.show()"
   ]
  },
  {
   "cell_type": "markdown",
   "metadata": {
    "id": "69Bmn1dQn9k8"
   },
   "source": [
    "### Pertanyaan 3: Bagaimana trend curah hujan di stasiun guanyuan setiap bulannya?"
   ]
  },
  {
   "cell_type": "code",
   "execution_count": null,
   "metadata": {
    "colab": {
     "base_uri": "https://localhost:8080/",
     "height": 607
    },
    "id": "11M2oiojrF1P",
    "outputId": "9e83e16f-0e1c-4fba-af4e-cb325c5d4e80"
   },
   "outputs": [],
   "source": [
    "if 'date' not in air_quality_df.columns:\n",
    "    air_quality_df['date'] = pd.to_datetime(air_quality_df[['year', 'month', 'day', 'hour']])\n",
    "    air_quality_df.set_index('date', inplace=True)\n",
    "\n",
    "monthly_rainfall = air_quality_df.groupby([air_quality_df.index.year, air_quality_df.index.month])['RAIN'].mean().unstack(level=0)\n",
    "\n",
    "plt.figure(figsize=(12, 6))\n",
    "\n",
    "for year in monthly_rainfall.columns:\n",
    "    plt.plot(monthly_rainfall.index, monthly_rainfall[year], marker='o', label=str(year))\n",
    "\n",
    "plt.title('Trend Curah Hujan Bulanan di Stasiun Guanyuan (Tiap Tahun)')\n",
    "plt.xlabel('Bulan')\n",
    "plt.ylabel('Rata-rata Curah Hujan (mm)')\n",
    "plt.xticks(ticks=range(1, 13), labels=['Jan', 'Feb', 'Mar', 'Apr', 'Mei', 'Jun', 'Jul', 'Agu', 'Sep', 'Okt', 'Nov', 'Des'])\n",
    "plt.legend(title='Tahun')\n",
    "plt.grid(True)\n",
    "plt.tight_layout()\n",
    "plt.show()"
   ]
  },
  {
   "cell_type": "markdown",
   "metadata": {
    "id": "9y4VUsmcYNZ5"
   },
   "source": [
    "## Analisis Lanjutan (Opsional)"
   ]
  },
  {
   "cell_type": "code",
   "execution_count": null,
   "metadata": {
    "id": "iWhnzsJGYUCO",
    "scrolled": true
   },
   "outputs": [],
   "source": [
    "stations_coordinates = {\n",
    "    \"Aotizhongxin\": [40.0378, 116.4188],\n",
    "    \"Changping\": [40.2181, 116.2215],\n",
    "    \"Dingling\": [40.2413, 116.2343],\n",
    "    \"Guanyuan\": [39.9298, 116.3655],\n",
    "    \"Huairou\": [40.3243, 116.6318],\n",
    "    \"Nongzhanguan\": [39.9336, 116.4667],\n",
    "    \"Shunyi\": [40.1282, 116.6546],\n",
    "    \"Tiantan\": [39.8869, 116.4129],\n",
    "    \"Wanliu\": [39.9741, 116.3138],\n",
    "    \"Wanshouxigong\": [39.8787, 116.3549],\n",
    "}\n",
    "\n",
    "station_data = []\n",
    "for station, coords in stations_coordinates.items():\n",
    "    avg_pm25 = air_quality_df['PM2.5'].mean()\n",
    "    station_data.append((station, coords[0], coords[1], avg_pm25))\n",
    "\n",
    "map_beijing = folium.Map(location=[39.9042, 116.4074], zoom_start=10)\n",
    "\n",
    "for station, lat, lon, pm25 in station_data:\n",
    "    folium.CircleMarker(\n",
    "        location=[lat, lon],\n",
    "        radius=pm25 / 10,\n",
    "        popup=f\"{station}: {pm25:.2f} µg/m³\",\n",
    "        color=\"red\" if pm25 > 75 else \"green\",\n",
    "        fill=True,\n",
    "        fill_color=\"red\" if pm25 > 75 else \"green\",\n",
    "        fill_opacity=0.7,\n",
    "    ).add_to(map_beijing)\n",
    "\n",
    "heat_data = [[lat, lon, pm25] for _, lat, lon, pm25 in station_data]\n",
    "HeatMap(heat_data).add_to(map_beijing)\n",
    "\n",
    "display(map_beijing)"
   ]
  },
  {
   "cell_type": "markdown",
   "metadata": {},
   "source": [
    "kita bisa membuat peta untuk melihat distribusi konsentrasi polutan di berbagai area.  Menggunakan peta panas (heatmap) untuk melihat bagaimana polutan seperti PM2.5 tersebar di Beijing. Dengan data dari beberapa stasiun, kita bisa membandingkan kualitas udara antar daerah atau kawasan di Beijing."
   ]
  },
  {
   "cell_type": "markdown",
   "metadata": {
    "id": "_WeHlCeX8DC2"
   },
   "source": [
    "## Conclusion"
   ]
  },
  {
   "cell_type": "markdown",
   "metadata": {
    "id": "ZTcyR48Y8DC2"
   },
   "source": [
    "- Bagaimana trend kualitas udara di stasiun guanyuan dari tahun ke tahun?\n",
    "> Secara keseluruhan, terdapat pola fluktuasi yang signifikan dari tahun ke tahun pada berbagai polutan, terutama pada 2016 yang menunjukkan konsentrasi yang lebih tinggi dibanding tahun lainnya. Hal ini mungkin disebabkan oleh kondisi lingkungan, cuaca, atau aktivitas tertentu yang mempengaruhi kualitas udara di stasiun Guanyuan selama periode tersebut.\n",
    "- Faktor apa yang paling berpengaruh terhadap perubahan kualitas udara?\n",
    "> Suhu (TEMP) tampaknya menjadi faktor cuaca yang paling berpengaruh terhadap perubahan kualitas udara, khususnya karena pengaruhnya yang negatif terhadap polutan seperti PM2.5, PM10, NO2, dan CO, serta pengaruh positif terhadap O3. Namun, korelasi yang ditunjukkan tidak sepenuhnya kuat untuk menyimpulkan pengaruh langsung dan pasti, karena faktor cuaca lain dan variabel lingkungan lain juga mungkin berperan.\n",
    "- Bagaimana trend curah hujan di stasiun guanyuan setiap bulannya?\n",
    ">  Periode musim hujan umumnya terjadi dari Mei hingga Agustus, dengan curah hujan yang meningkat mulai dari April hingga mencapai puncaknya di bulan Juli. Sementara itu, Musim kering terjadi dari September hingga Desember, di mana curah hujan menurun drastis dan mendekati nol pada akhir tahun. Pada tahun 2016 menunjukkan puncak curah hujan yang paling tinggi dibandingkan tahun lainnya.\n"
   ]
  }
 ],
 "metadata": {
  "colab": {
   "provenance": []
  },
  "kernelspec": {
   "display_name": "Python 3 (ipykernel)",
   "language": "python",
   "name": "python3"
  },
  "language_info": {
   "codemirror_mode": {
    "name": "ipython",
    "version": 3
   },
   "file_extension": ".py",
   "mimetype": "text/x-python",
   "name": "python",
   "nbconvert_exporter": "python",
   "pygments_lexer": "ipython3",
   "version": "3.9.0"
  },
  "vscode": {
   "interpreter": {
    "hash": "972b3bf27e332e87b5379f2791f6ef9dfc79c71018c370b0d7423235e20fe4d7"
   }
  }
 },
 "nbformat": 4,
 "nbformat_minor": 4
}
